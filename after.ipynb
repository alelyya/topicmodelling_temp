{
 "cells": [
  {
   "cell_type": "code",
   "execution_count": null,
   "id": "9860c9fe-dc06-47cd-a7f6-03c5fbb6df5c",
   "metadata": {},
   "outputs": [],
   "source": [
    "report_3: ['Конференции', 'Суд Роза Хутор vs Красная Поляна', 'Пешеходная зона в Красной Поляне']\n",
    "report_1: ['Палестина и starbucks', 'Пинский пробил голову', 'Канье Уэст и жена', 'Посты в соцсетях', 'Профсоюз starbucks']\n",
    "report_2: ['Новость - РУСАЛа', 'Опрос - болезни', 'Опрос - рост цен', 'Опрос - прививки', 'Опрос - материнский капитал', 'Опрос - автострахование']\n",
    "clustered_report: ['Арутюнян, Сюжет', 'ПИК - лидер отрасли, Сюжет', 'Гордеев - акции', 'Потоп в ЖК на Ильменском', \n",
    "                   'Поправки в жилищный кодекс', 'ПИК и Абрамович', 'ПИК - негатив', \n",
    "                   'Коньяк «КиН», Сюжет', 'ПИК - банкротство', 'Гибель рабочего', 'ПИК - суды', \n",
    "                   'Больница им. Бахрушиных, Сюжет', 'Парковочные войны', 'Поджог башни', \n",
    "                   'ВТБ, Сюжет', 'Красный нефтяник, Сюжет']"
   ]
  },
  {
   "cell_type": "code",
   "execution_count": 71,
   "id": "ead41f8f-cf3d-4e2d-962e-e84893c06b2e",
   "metadata": {},
   "outputs": [
    {
     "name": "stdout",
     "output_type": "stream",
     "text": [
      "report_2_2_augmented_cleanedup_v2\n"
     ]
    },
    {
     "data": {
      "text/html": [
       "<table border=\"1\" class=\"dataframe\">\n",
       "  <thead>\n",
       "    <tr style=\"text-align: right;\">\n",
       "      <th></th>\n",
       "      <th>Topic</th>\n",
       "      <th>Count</th>\n",
       "      <th>Real count</th>\n",
       "      <th>Representation</th>\n",
       "      <th>Real representation</th>\n",
       "    </tr>\n",
       "  </thead>\n",
       "  <tbody>\n",
       "    <tr>\n",
       "      <th>0</th>\n",
       "      <td>-1</td>\n",
       "      <td>75</td>\n",
       "      <td>13.0</td>\n",
       "      <td>['росгосстрах', 'рост цен', 'росгосстрах сервис', 'росгосстрах елена', 'розничного автострахования', 'автострахования пао', 'цен авто']</td>\n",
       "      <td>Опрос - прививки</td>\n",
       "    </tr>\n",
       "    <tr>\n",
       "      <th>1</th>\n",
       "      <td>0</td>\n",
       "      <td>121</td>\n",
       "      <td>161.0</td>\n",
       "      <td>['ингосстрах', 'россии', 'астра', 'росгосстрах', 'российских', 'информации', 'акции']</td>\n",
       "      <td>None</td>\n",
       "    </tr>\n",
       "    <tr>\n",
       "      <th>2</th>\n",
       "      <td>1</td>\n",
       "      <td>54</td>\n",
       "      <td>101.0</td>\n",
       "      <td>['параллельному импорту', 'рост цен', 'росгосстрах', 'проверки автомобилей', 'росгосстрах сервиса', 'импорту последний', 'цены повысились']</td>\n",
       "      <td>Опрос - рост цен</td>\n",
       "    </tr>\n",
       "    <tr>\n",
       "      <th>3</th>\n",
       "      <td>2</td>\n",
       "      <td>47</td>\n",
       "      <td>23.0</td>\n",
       "      <td>['материнский капитал', 'материнского капитала', 'городов россии', 'трети опрошенных', 'медицинское страхование', 'совместное исследование', 'вопрос']</td>\n",
       "      <td>Опрос - материнский капитал</td>\n",
       "    </tr>\n",
       "    <tr>\n",
       "      <th>4</th>\n",
       "      <td>3</td>\n",
       "      <td>42</td>\n",
       "      <td>79.0</td>\n",
       "      <td>['прививается не_каждый', 'прививок гриппа', 'физическую активность', 'большим скоплением', 'опрошенных рассказали', 'простуду грипп', 'хронические заболевания']</td>\n",
       "      <td>Опрос - болезни</td>\n",
       "    </tr>\n",
       "    <tr>\n",
       "      <th>5</th>\n",
       "      <td>4</td>\n",
       "      <td>28</td>\n",
       "      <td>NaN</td>\n",
       "      <td>['росгосстрах', 'пао росгосстрах', 'цен авто', 'сервис проверки', 'автодилеров специализирующихся', 'клиентской ценностью', 'называемого страхования']</td>\n",
       "      <td>None</td>\n",
       "    </tr>\n",
       "    <tr>\n",
       "      <th>6</th>\n",
       "      <td>5</td>\n",
       "      <td>27</td>\n",
       "      <td>NaN</td>\n",
       "      <td>['время обостряются', 'заболевания выяснили', 'мерам сдерживания', 'россиян лечатся', 'сдерживания эпидемий', 'грипп время', 'опрошенных вообще']</td>\n",
       "      <td>None</td>\n",
       "    </tr>\n",
       "  </tbody>\n",
       "</table>"
      ],
      "text/plain": [
       "<IPython.core.display.HTML object>"
      ]
     },
     "metadata": {},
     "output_type": "display_data"
    },
    {
     "name": "stdout",
     "output_type": "stream",
     "text": [
      "clustered_report_augmented_cleanedup_v2\n"
     ]
    },
    {
     "data": {
      "text/html": [
       "<table border=\"1\" class=\"dataframe\">\n",
       "  <thead>\n",
       "    <tr style=\"text-align: right;\">\n",
       "      <th></th>\n",
       "      <th>Topic</th>\n",
       "      <th>Count</th>\n",
       "      <th>Real count</th>\n",
       "      <th>Representation</th>\n",
       "      <th>Real representation</th>\n",
       "    </tr>\n",
       "  </thead>\n",
       "  <tbody>\n",
       "    <tr>\n",
       "      <th>0</th>\n",
       "      <td>-1</td>\n",
       "      <td>655</td>\n",
       "      <td>1232.0</td>\n",
       "      <td>['гордеева', 'сергей гордеев', 'капитала пик', 'группа компаний', 'известного застройщика', 'компаний пик', 'пик продав']</td>\n",
       "      <td>None</td>\n",
       "    </tr>\n",
       "    <tr>\n",
       "      <th>1</th>\n",
       "      <td>0</td>\n",
       "      <td>179</td>\n",
       "      <td>NaN</td>\n",
       "      <td>['пик', 'россии', 'новости', 'предложения', 'городах', 'ипотечных', 'застройщики']</td>\n",
       "      <td>None</td>\n",
       "    </tr>\n",
       "    <tr>\n",
       "      <th>2</th>\n",
       "      <td>1</td>\n",
       "      <td>98</td>\n",
       "      <td>NaN</td>\n",
       "      <td>['детский сад', 'ильинские луга', 'детского сада', 'инфраструктура', 'никольские луга', 'исполняющий обязанности', 'территории']</td>\n",
       "      <td>None</td>\n",
       "    </tr>\n",
       "    <tr>\n",
       "      <th>3</th>\n",
       "      <td>2</td>\n",
       "      <td>96</td>\n",
       "      <td>69.0</td>\n",
       "      <td>['группа лср', 'жилищного строительства', 'текущего строительства', 'ресурса застройщиков', 'застройщиков', 'текущего жилищного', 'жилья россии']</td>\n",
       "      <td>ПИК - лидер отрасли, Сюжет</td>\n",
       "    </tr>\n",
       "    <tr>\n",
       "      <th>4</th>\n",
       "      <td>3</td>\n",
       "      <td>74</td>\n",
       "      <td>63.0</td>\n",
       "      <td>['сергея гордеева', 'отлаженный механизм', 'гордеева превратились', 'отъему денег', 'общероссийского общественного', 'механизм отъему', 'собранные жителей']</td>\n",
       "      <td>ПИК - суды</td>\n",
       "    </tr>\n",
       "    <tr>\n",
       "      <th>5</th>\n",
       "      <td>4</td>\n",
       "      <td>68</td>\n",
       "      <td>89.0</td>\n",
       "      <td>['гордеев', 'сергей гордеев', 'гордеев снизил', 'трастовая компания', 'акций застройщика', 'сотрудничество группы', 'продал акции']</td>\n",
       "      <td>Гордеев - акции</td>\n",
       "    </tr>\n",
       "    <tr>\n",
       "      <th>6</th>\n",
       "      <td>5</td>\n",
       "      <td>63</td>\n",
       "      <td>6.0</td>\n",
       "      <td>['жилищный кодекс', 'сергей пахомов', 'застройщика пик', 'сергей креков', 'жкх сергей', 'управляющие пик-комфорта', 'грозит']</td>\n",
       "      <td>Поправки в жилищный кодекс</td>\n",
       "    </tr>\n",
       "    <tr>\n",
       "      <th>7</th>\n",
       "      <td>6</td>\n",
       "      <td>60</td>\n",
       "      <td>10.0</td>\n",
       "      <td>['культурного наследия', 'мытищах', 'верхних этажей', 'непосредственной близости', 'статус объекта', 'происшествия', 'объекта культурного']</td>\n",
       "      <td>Поджог башни</td>\n",
       "    </tr>\n",
       "    <tr>\n",
       "      <th>8</th>\n",
       "      <td>7</td>\n",
       "      <td>60</td>\n",
       "      <td>11.0</td>\n",
       "      <td>['группы пик', 'группа пик', 'пик клаксон', 'пик застройке', 'застройке территории', 'застройщики жилья', 'льготной ипотеки']</td>\n",
       "      <td>Больница им. Бахрушиных, Сюжет</td>\n",
       "    </tr>\n",
       "    <tr>\n",
       "      <th>9</th>\n",
       "      <td>8</td>\n",
       "      <td>54</td>\n",
       "      <td>39.0</td>\n",
       "      <td>['фсб', 'абрамовича', 'абрамович', 'абрамовичу', 'абрамовичу предприниматели', 'сергей гордеев', 'претензий фсб']</td>\n",
       "      <td>ПИК и Абрамович</td>\n",
       "    </tr>\n",
       "    <tr>\n",
       "      <th>10</th>\n",
       "      <td>9</td>\n",
       "      <td>50</td>\n",
       "      <td>NaN</td>\n",
       "      <td>['третьей очереди', 'застройщик пик', 'мещерский лес', 'многоуровневый паркинг', 'дорожного движения', 'проектировании', 'запрещающих']</td>\n",
       "      <td>None</td>\n",
       "    </tr>\n",
       "    <tr>\n",
       "      <th>11</th>\n",
       "      <td>10</td>\n",
       "      <td>46</td>\n",
       "      <td>NaN</td>\n",
       "      <td>['капитальный ремонт', 'застройщика пик', 'луга застройщик', 'группа компании', 'застройщик группа', 'исполнении', 'конструкция']</td>\n",
       "      <td>None</td>\n",
       "    </tr>\n",
       "    <tr>\n",
       "      <th>12</th>\n",
       "      <td>11</td>\n",
       "      <td>42</td>\n",
       "      <td>NaN</td>\n",
       "      <td>['крупнейших застройщиков', 'строительного рынка', 'россии', 'российских девелоперов', 'застройщики россии', 'российских', 'состоянии']</td>\n",
       "      <td>None</td>\n",
       "    </tr>\n",
       "    <tr>\n",
       "      <th>13</th>\n",
       "      <td>12</td>\n",
       "      <td>42</td>\n",
       "      <td>NaN</td>\n",
       "      <td>['расцветай', 'расцветай янино', 'участке', 'прямые инвестиции', 'участке построить', 'группа компаний', 'отделкой']</td>\n",
       "      <td>None</td>\n",
       "    </tr>\n",
       "    <tr>\n",
       "      <th>14</th>\n",
       "      <td>13</td>\n",
       "      <td>37</td>\n",
       "      <td>51.0</td>\n",
       "      <td>['красный нефтяник', 'фрунзенском районе', 'территории предприятия', 'нефтяник фрунзенском', 'фрунзенский район', 'нефтяник площадью', 'подготовке изменений']</td>\n",
       "      <td>Красный нефтяник, Сюжет</td>\n",
       "    </tr>\n",
       "    <tr>\n",
       "      <th>15</th>\n",
       "      <td>14</td>\n",
       "      <td>36</td>\n",
       "      <td>NaN</td>\n",
       "      <td>['россии', 'минстроя россии', 'востока арктики', 'крупнейшим девелоперам', 'опережающего развития', 'проекты-благовещенск входит', 'амурской']</td>\n",
       "      <td>None</td>\n",
       "    </tr>\n",
       "    <tr>\n",
       "      <th>16</th>\n",
       "      <td>15</td>\n",
       "      <td>34</td>\n",
       "      <td>NaN</td>\n",
       "      <td>['девелоперу сергею', 'сергею гордееву', 'сергея гордеева', 'гордееву', 'гордеев', 'сообщения девелопера', 'новым владельцем']</td>\n",
       "      <td>None</td>\n",
       "    </tr>\n",
       "    <tr>\n",
       "      <th>17</th>\n",
       "      <td>16</td>\n",
       "      <td>34</td>\n",
       "      <td>NaN</td>\n",
       "      <td>['красногвардейском районе', 'кутузовский квартал', 'продажи квартир', 'ооо магнитогорская', 'районе санкт-петербурга', 'жилого комплекса', 'якорной улицами']</td>\n",
       "      <td>None</td>\n",
       "    </tr>\n",
       "    <tr>\n",
       "      <th>18</th>\n",
       "      <td>17</td>\n",
       "      <td>33</td>\n",
       "      <td>NaN</td>\n",
       "      <td>['красный нефтяник', 'жилой застройки', 'компаний пик', 'комиссия внесению', 'изменений генплан', 'застройщику компании', 'территория находится']</td>\n",
       "      <td>None</td>\n",
       "    </tr>\n",
       "    <tr>\n",
       "      <th>19</th>\n",
       "      <td>18</td>\n",
       "      <td>30</td>\n",
       "      <td>NaN</td>\n",
       "      <td>['михаил', 'тысяч вакансий', 'высококвалифицированных специалистов', 'россии', 'спрос высококвалифицированных', 'российских', 'алюминия']</td>\n",
       "      <td>None</td>\n",
       "    </tr>\n",
       "    <tr>\n",
       "      <th>20</th>\n",
       "      <td>19</td>\n",
       "      <td>30</td>\n",
       "      <td>NaN</td>\n",
       "      <td>['банк втб', 'акций пик', 'пик подробности', 'подробности сделки', 'сделки не_известны', 'банкира застройщика', 'компании пик']</td>\n",
       "      <td>None</td>\n",
       "    </tr>\n",
       "    <tr>\n",
       "      <th>21</th>\n",
       "      <td>20</td>\n",
       "      <td>29</td>\n",
       "      <td>NaN</td>\n",
       "      <td>['telegram', 'метриум', 'квартир апартаментов', 'коммерсантъ', 'компании метриум', 'подписчикам', 'истории']</td>\n",
       "      <td>None</td>\n",
       "    </tr>\n",
       "    <tr>\n",
       "      <th>22</th>\n",
       "      <td>21</td>\n",
       "      <td>29</td>\n",
       "      <td>NaN</td>\n",
       "      <td>['кин разольют', 'коньяк кин', 'коньячного завода', 'ильинском-усово красногорском', 'застройщики жилья', 'льготной ипотеки', 'территории винно-коньячного']</td>\n",
       "      <td>None</td>\n",
       "    </tr>\n",
       "    <tr>\n",
       "      <th>23</th>\n",
       "      <td>22</td>\n",
       "      <td>28</td>\n",
       "      <td>NaN</td>\n",
       "      <td>['девелопера гордеева', 'столичных застройщиков', 'девелоперской группы', 'группы пик', 'спортивная', 'жилом комплексе', 'объекты черноморском']</td>\n",
       "      <td>None</td>\n",
       "    </tr>\n",
       "  </tbody>\n",
       "</table>"
      ],
      "text/plain": [
       "<IPython.core.display.HTML object>"
      ]
     },
     "metadata": {},
     "output_type": "display_data"
    },
    {
     "name": "stdout",
     "output_type": "stream",
     "text": [
      "report_3_2_augmented_cleanedup_v2\n"
     ]
    },
    {
     "data": {
      "text/html": [
       "<table border=\"1\" class=\"dataframe\">\n",
       "  <thead>\n",
       "    <tr style=\"text-align: right;\">\n",
       "      <th></th>\n",
       "      <th>Topic</th>\n",
       "      <th>Count</th>\n",
       "      <th>Real count</th>\n",
       "      <th>Representation</th>\n",
       "      <th>Real representation</th>\n",
       "    </tr>\n",
       "  </thead>\n",
       "  <tbody>\n",
       "    <tr>\n",
       "      <th>0</th>\n",
       "      <td>-1</td>\n",
       "      <td>27</td>\n",
       "      <td>NaN</td>\n",
       "      <td>['россии', 'хутор', 'роза хутор', 'горнолыжных курортах', 'туристических территорий', 'курортов', 'красной']</td>\n",
       "      <td>None</td>\n",
       "    </tr>\n",
       "    <tr>\n",
       "      <th>1</th>\n",
       "      <td>0</td>\n",
       "      <td>220</td>\n",
       "      <td>245.0</td>\n",
       "      <td>['хутор', 'роза хутор', 'красная поляна', 'курорт', 'красной поляны', 'горах', 'красной поляне']</td>\n",
       "      <td>None</td>\n",
       "    </tr>\n",
       "    <tr>\n",
       "      <th>2</th>\n",
       "      <td>1</td>\n",
       "      <td>44</td>\n",
       "      <td>NaN</td>\n",
       "      <td>['краснодарского края', 'газпром', 'александр руппель', 'олимпийского наследия', 'александр', 'движение транспорта', 'маломобильных граждан']</td>\n",
       "      <td>None</td>\n",
       "    </tr>\n",
       "    <tr>\n",
       "      <th>3</th>\n",
       "      <td>2</td>\n",
       "      <td>33</td>\n",
       "      <td>NaN</td>\n",
       "      <td>['газпром', 'роза хутор', 'газпром поляна', 'курортами газпром', 'мероприятия соответствии', 'туризма олимпийского', 'года планируем']</td>\n",
       "      <td>None</td>\n",
       "    </tr>\n",
       "    <tr>\n",
       "      <th>4</th>\n",
       "      <td>3</td>\n",
       "      <td>27</td>\n",
       "      <td>30.0</td>\n",
       "      <td>['роза хутор', 'хутор', 'хутор проиграла', 'курорт горки', 'географическое название', 'правовой охраны', 'горнолыжных гигантов']</td>\n",
       "      <td>Суд Роза Хутор vs Красная Поляна</td>\n",
       "    </tr>\n",
       "    <tr>\n",
       "      <th>5</th>\n",
       "      <td>4</td>\n",
       "      <td>24</td>\n",
       "      <td>NaN</td>\n",
       "      <td>['бархатный сезон', 'россии', 'горном кластере', 'итогам года', 'алексей копайгородский', 'туристического показа', 'гостей']</td>\n",
       "      <td>None</td>\n",
       "    </tr>\n",
       "    <tr>\n",
       "      <th>6</th>\n",
       "      <td>5</td>\n",
       "      <td>23</td>\n",
       "      <td>NaN</td>\n",
       "      <td>['россии', 'хорошем состоянии', 'сочи находится', 'сириус', 'краснодарского края', 'олимпийского', 'состоянии']</td>\n",
       "      <td>None</td>\n",
       "    </tr>\n",
       "    <tr>\n",
       "      <th>7</th>\n",
       "      <td>6</td>\n",
       "      <td>21</td>\n",
       "      <td>25.0</td>\n",
       "      <td>['красная поляна', 'россии', 'туристических территорий', 'органов власти', 'тысяч рублей', 'городских', 'отелей санаториев']</td>\n",
       "      <td>Конференции</td>\n",
       "    </tr>\n",
       "  </tbody>\n",
       "</table>"
      ],
      "text/plain": [
       "<IPython.core.display.HTML object>"
      ]
     },
     "metadata": {},
     "output_type": "display_data"
    },
    {
     "name": "stdout",
     "output_type": "stream",
     "text": [
      "report_1_2_augmented_cleanedup_v2\n"
     ]
    },
    {
     "data": {
      "text/html": [
       "<table border=\"1\" class=\"dataframe\">\n",
       "  <thead>\n",
       "    <tr style=\"text-align: right;\">\n",
       "      <th></th>\n",
       "      <th>Topic</th>\n",
       "      <th>Count</th>\n",
       "      <th>Real count</th>\n",
       "      <th>Representation</th>\n",
       "      <th>Real representation</th>\n",
       "    </tr>\n",
       "  </thead>\n",
       "  <tbody>\n",
       "    <tr>\n",
       "      <th>0</th>\n",
       "      <td>-1</td>\n",
       "      <td>70</td>\n",
       "      <td>59.0</td>\n",
       "      <td>['starbucks', 'профсоюз работников', 'работников starbucks', 'профсоюзные отделения', 'профсоюз starbucks', 'starbucks сша', 'кофейных']</td>\n",
       "      <td>Профсоюз starbucks</td>\n",
       "    </tr>\n",
       "    <tr>\n",
       "      <th>1</th>\n",
       "      <td>0</td>\n",
       "      <td>99</td>\n",
       "      <td>76.0</td>\n",
       "      <td>['пинский', 'центре москвы', 'совладелец starbucks', 'голову центре', 'starbucks', 'сеть пиццерий', 'процесс']</td>\n",
       "      <td>Пинский пробил голову</td>\n",
       "    </tr>\n",
       "    <tr>\n",
       "      <th>2</th>\n",
       "      <td>1</td>\n",
       "      <td>80</td>\n",
       "      <td>315.0</td>\n",
       "      <td>['starbucks', 'хэллоуин', 'кофейни', 'сеть кофеен', 'китае', 'airbnb', 'российских']</td>\n",
       "      <td>None</td>\n",
       "    </tr>\n",
       "    <tr>\n",
       "      <th>3</th>\n",
       "      <td>2</td>\n",
       "      <td>51</td>\n",
       "      <td>23.0</td>\n",
       "      <td>['хамас', 'израиль', 'израиля', 'starbucks', 'израиле', 'израилем', 'америки']</td>\n",
       "      <td>Палестина и starbucks</td>\n",
       "    </tr>\n",
       "    <tr>\n",
       "      <th>4</th>\n",
       "      <td>3</td>\n",
       "      <td>50</td>\n",
       "      <td>NaN</td>\n",
       "      <td>['starbucks', 'капучино', 'кофеен starbucks', 'сеть кофеен', 'тыквенных nft', 'starbucks запускает', 'nft-токены специально']</td>\n",
       "      <td>None</td>\n",
       "    </tr>\n",
       "    <tr>\n",
       "      <th>5</th>\n",
       "      <td>4</td>\n",
       "      <td>47</td>\n",
       "      <td>19.0</td>\n",
       "      <td>['китае', 'starbucks', 'россии', 'японии', 'кука', 'информацию', 'который']</td>\n",
       "      <td>Посты в соцсетях</td>\n",
       "    </tr>\n",
       "    <tr>\n",
       "      <th>6</th>\n",
       "      <td>5</td>\n",
       "      <td>46</td>\n",
       "      <td>NaN</td>\n",
       "      <td>['компании', 'эстонии', 'starbucks', 'китай', 'свой кофе', 'становится', 'технологий']</td>\n",
       "      <td>None</td>\n",
       "    </tr>\n",
       "    <tr>\n",
       "      <th>7</th>\n",
       "      <td>6</td>\n",
       "      <td>36</td>\n",
       "      <td>NaN</td>\n",
       "      <td>['starbucks', 'nike', 'косметика', 'mcdonald', 'sephora', 'kfc', 'точка']</td>\n",
       "      <td>None</td>\n",
       "    </tr>\n",
       "    <tr>\n",
       "      <th>8</th>\n",
       "      <td>7</td>\n",
       "      <td>30</td>\n",
       "      <td>17.0</td>\n",
       "      <td>['уэст', 'канье уэст', 'кофейне', 'рэпер канье', 'итальянском starbucks', 'поэтому', 'фотографии']</td>\n",
       "      <td>Канье Уэст и жена</td>\n",
       "    </tr>\n",
       "  </tbody>\n",
       "</table>"
      ],
      "text/plain": [
       "<IPython.core.display.HTML object>"
      ]
     },
     "metadata": {},
     "output_type": "display_data"
    }
   ],
   "source": []
  },
  {
   "cell_type": "code",
   "execution_count": null,
   "id": "188e343b-1cc5-4a9d-9b87-8ce2260ab454",
   "metadata": {},
   "outputs": [
    {
     "data": {
      "application/json": {
       "clustered_report_augmented_cleanedup_v2": {
        "completeness": 0.179535204813368,
        "homogeneity": 0.308045977334937,
        "modeled_topics": 24,
        "silhouette_score": -0.052057895162475144,
        "topics": {
         "-1": {
          "cluster_sizes": {
           "model_cluster_size": 655,
           "real_cluster_size": 1232,
           "relevant_post_count": 388
          },
          "model_cluster_size / real_cluster_size": 0.53,
          "model_representation": "гордеева|сергей гордеев|капитала пик|группа компаний|известного застройщика|компаний пик|пик продав",
          "model_topic_id": -1,
          "precision (might be underestimated)": 0.59,
          "recall": 0.31,
          "topic_representation": null
         },
         "0": {
          "cluster_sizes": {
           "model_cluster_size": 655,
           "real_cluster_size": 6,
           "relevant_post_count": 6
          },
          "model_cluster_size / real_cluster_size": 109.17,
          "model_representation": "гордеева|сергей гордеев|капитала пик|группа компаний|известного застройщика|компаний пик|пик продав",
          "model_topic_id": -1,
          "precision (might be underestimated)": 0.01,
          "recall": 1,
          "topic_representation": "Гибель рабочего"
         },
         "1": {
          "cluster_sizes": {
           "model_cluster_size": 655,
           "real_cluster_size": 34,
           "relevant_post_count": 12
          },
          "model_cluster_size / real_cluster_size": 19.26,
          "model_representation": "гордеева|сергей гордеев|капитала пик|группа компаний|известного застройщика|компаний пик|пик продав",
          "model_topic_id": -1,
          "precision (might be underestimated)": 0.02,
          "recall": 0.35,
          "topic_representation": "ПИК - банкротство"
         },
         "10": {
          "cluster_sizes": {
           "model_cluster_size": 655,
           "real_cluster_size": 12,
           "relevant_post_count": 12
          },
          "model_cluster_size / real_cluster_size": 54.58,
          "model_representation": "гордеева|сергей гордеев|капитала пик|группа компаний|известного застройщика|компаний пик|пик продав",
          "model_topic_id": -1,
          "precision (might be underestimated)": 0.02,
          "recall": 1,
          "topic_representation": "Потоп в ЖК на Ильменском"
         },
         "11": {
          "cluster_sizes": {
           "model_cluster_size": 655,
           "real_cluster_size": 132,
           "relevant_post_count": 39
          },
          "model_cluster_size / real_cluster_size": 4.96,
          "model_representation": "гордеева|сергей гордеев|капитала пик|группа компаний|известного застройщика|компаний пик|пик продав",
          "model_topic_id": -1,
          "precision (might be underestimated)": 0.06,
          "recall": 0.3,
          "topic_representation": "ВТБ, Сюжет"
         },
         "12": {
          "cluster_sizes": {
           "model_cluster_size": 655,
           "real_cluster_size": 50,
           "relevant_post_count": 47
          },
          "model_cluster_size / real_cluster_size": 13.1,
          "model_representation": "гордеева|сергей гордеев|капитала пик|группа компаний|известного застройщика|компаний пик|пик продав",
          "model_topic_id": -1,
          "precision (might be underestimated)": 0.07,
          "recall": 0.94,
          "topic_representation": "Арутюнян, Сюжет"
         },
         "13": {
          "cluster_sizes": {
           "model_cluster_size": 96,
           "real_cluster_size": 69,
           "relevant_post_count": 31
          },
          "model_cluster_size / real_cluster_size": 1.39,
          "model_representation": "группа лср|жилищного строительства|текущего строительства|ресурса застройщиков|застройщиков|текущего жилищного|жилья россии",
          "model_topic_id": 2,
          "precision (might be underestimated)": 0.32,
          "recall": 0.45,
          "topic_representation": "ПИК - лидер отрасли, Сюжет"
         },
         "14": {
          "cluster_sizes": {
           "model_cluster_size": 63,
           "real_cluster_size": 6,
           "relevant_post_count": 6
          },
          "model_cluster_size / real_cluster_size": 10.5,
          "model_representation": "жилищный кодекс|сергей пахомов|застройщика пик|сергей креков|жкх сергей|управляющие пик-комфорта|грозит",
          "model_topic_id": 5,
          "precision (might be underestimated)": 0.1,
          "recall": 1,
          "topic_representation": "Поправки в жилищный кодекс"
         },
         "15": {
          "cluster_sizes": {
           "model_cluster_size": 60,
           "real_cluster_size": 11,
           "relevant_post_count": 7
          },
          "model_cluster_size / real_cluster_size": 5.45,
          "model_representation": "группы пик|группа пик|пик клаксон|пик застройке|застройке территории|застройщики жилья|льготной ипотеки",
          "model_topic_id": 7,
          "precision (might be underestimated)": 0.12,
          "recall": 0.64,
          "topic_representation": "Больница им. Бахрушиных, Сюжет"
         },
         "2": {
          "cluster_sizes": {
           "model_cluster_size": 655,
           "real_cluster_size": 13,
           "relevant_post_count": 13
          },
          "model_cluster_size / real_cluster_size": 50.38,
          "model_representation": "гордеева|сергей гордеев|капитала пик|группа компаний|известного застройщика|компаний пик|пик продав",
          "model_topic_id": -1,
          "precision (might be underestimated)": 0.02,
          "recall": 1,
          "topic_representation": "Парковочные войны"
         },
         "3": {
          "cluster_sizes": {
           "model_cluster_size": 37,
           "real_cluster_size": 51,
           "relevant_post_count": 21
          },
          "model_cluster_size / real_cluster_size": 0.73,
          "model_representation": "красный нефтяник|фрунзенском районе|территории предприятия|нефтяник фрунзенском|фрунзенский район|нефтяник площадью|подготовке изменений",
          "model_topic_id": 13,
          "precision (might be underestimated)": 0.57,
          "recall": 0.41,
          "topic_representation": "Красный нефтяник, Сюжет"
         },
         "4": {
          "cluster_sizes": {
           "model_cluster_size": 54,
           "real_cluster_size": 39,
           "relevant_post_count": 22
          },
          "model_cluster_size / real_cluster_size": 1.38,
          "model_representation": "фсб|абрамовича|абрамович|абрамовичу|абрамовичу предприниматели|сергей гордеев|претензий фсб",
          "model_topic_id": 8,
          "precision (might be underestimated)": 0.41,
          "recall": 0.56,
          "topic_representation": "ПИК и Абрамович"
         },
         "5": {
          "cluster_sizes": {
           "model_cluster_size": 74,
           "real_cluster_size": 63,
           "relevant_post_count": 23
          },
          "model_cluster_size / real_cluster_size": 1.17,
          "model_representation": "сергея гордеева|отлаженный механизм|гордеева превратились|отъему денег|общероссийского общественного|механизм отъему|собранные жителей",
          "model_topic_id": 3,
          "precision (might be underestimated)": 0.31,
          "recall": 0.37,
          "topic_representation": "ПИК - суды"
         },
         "6": {
          "cluster_sizes": {
           "model_cluster_size": 60,
           "real_cluster_size": 10,
           "relevant_post_count": 5
          },
          "model_cluster_size / real_cluster_size": 6,
          "model_representation": "культурного наследия|мытищах|верхних этажей|непосредственной близости|статус объекта|происшествия|объекта культурного",
          "model_topic_id": 6,
          "precision (might be underestimated)": 0.08,
          "recall": 0.5,
          "topic_representation": "Поджог башни"
         },
         "7": {
          "cluster_sizes": {
           "model_cluster_size": 655,
           "real_cluster_size": 62,
           "relevant_post_count": 27
          },
          "model_cluster_size / real_cluster_size": 10.56,
          "model_representation": "гордеева|сергей гордеев|капитала пик|группа компаний|известного застройщика|компаний пик|пик продав",
          "model_topic_id": -1,
          "precision (might be underestimated)": 0.04,
          "recall": 0.44,
          "topic_representation": "Коньяк «КиН», Сюжет"
         },
         "8": {
          "cluster_sizes": {
           "model_cluster_size": 655,
           "real_cluster_size": 28,
           "relevant_post_count": 26
          },
          "model_cluster_size / real_cluster_size": 23.39,
          "model_representation": "гордеева|сергей гордеев|капитала пик|группа компаний|известного застройщика|компаний пик|пик продав",
          "model_topic_id": -1,
          "precision (might be underestimated)": 0.04,
          "recall": 0.93,
          "topic_representation": "ПИК - негатив"
         },
         "9": {
          "cluster_sizes": {
           "model_cluster_size": 68,
           "real_cluster_size": 89,
           "relevant_post_count": 36
          },
          "model_cluster_size / real_cluster_size": 0.76,
          "model_representation": "гордеев|сергей гордеев|гордеев снизил|трастовая компания|акций застройщика|сотрудничество группы|продал акции",
          "model_topic_id": 4,
          "precision (might be underestimated)": 0.53,
          "recall": 0.4,
          "topic_representation": "Гордеев - акции"
         }
        },
        "v_measure": 0.22685493065620474
       },
       "report_1_2_augmented_cleanedup_v2": {
        "completeness": 0.24756221433415285,
        "homogeneity": 0.4373206682379126,
        "modeled_topics": 9,
        "silhouette_score": 0.06510456209506578,
        "topics": {
         "-1": {
          "cluster_sizes": {
           "model_cluster_size": 80,
           "real_cluster_size": 315,
           "relevant_post_count": 74
          },
          "model_cluster_size / real_cluster_size": 0.25,
          "model_representation": "starbucks|хэллоуин|кофейни|сеть кофеен|китае|airbnb|российских",
          "model_topic_id": 1,
          "precision (might be underestimated)": 0.93,
          "recall": 0.23,
          "topic_representation": null
         },
         "0": {
          "cluster_sizes": {
           "model_cluster_size": 47,
           "real_cluster_size": 19,
           "relevant_post_count": 8
          },
          "model_cluster_size / real_cluster_size": 2.47,
          "model_representation": "китае|starbucks|россии|японии|кука|информацию|который",
          "model_topic_id": 4,
          "precision (might be underestimated)": 0.17,
          "recall": 0.42,
          "topic_representation": "Посты в соцсетях"
         },
         "1": {
          "cluster_sizes": {
           "model_cluster_size": 30,
           "real_cluster_size": 17,
           "relevant_post_count": 14
          },
          "model_cluster_size / real_cluster_size": 1.76,
          "model_representation": "уэст|канье уэст|кофейне|рэпер канье|итальянском starbucks|поэтому|фотографии",
          "model_topic_id": 7,
          "precision (might be underestimated)": 0.47,
          "recall": 0.82,
          "topic_representation": "Канье Уэст и жена"
         },
         "2": {
          "cluster_sizes": {
           "model_cluster_size": 70,
           "real_cluster_size": 59,
           "relevant_post_count": 32
          },
          "model_cluster_size / real_cluster_size": 1.19,
          "model_representation": "starbucks|профсоюз работников|работников starbucks|профсоюзные отделения|профсоюз starbucks|starbucks сша|кофейных",
          "model_topic_id": -1,
          "precision (might be underestimated)": 0.46,
          "recall": 0.54,
          "topic_representation": "Профсоюз starbucks"
         },
         "3": {
          "cluster_sizes": {
           "model_cluster_size": 51,
           "real_cluster_size": 23,
           "relevant_post_count": 16
          },
          "model_cluster_size / real_cluster_size": 2.22,
          "model_representation": "хамас|израиль|израиля|starbucks|израиле|израилем|америки",
          "model_topic_id": 2,
          "precision (might be underestimated)": 0.31,
          "recall": 0.7,
          "topic_representation": "Палестина и starbucks"
         },
         "4": {
          "cluster_sizes": {
           "model_cluster_size": 99,
           "real_cluster_size": 76,
           "relevant_post_count": 64
          },
          "model_cluster_size / real_cluster_size": 1.3,
          "model_representation": "пинский|центре москвы|совладелец starbucks|голову центре|starbucks|сеть пиццерий|процесс",
          "model_topic_id": 0,
          "precision (might be underestimated)": 0.65,
          "recall": 0.84,
          "topic_representation": "Пинский пробил голову"
         }
        },
        "v_measure": 0.316153537365353
       },
       "report_2_2_augmented_cleanedup_v2": {
        "completeness": 0.3945801993063777,
        "homogeneity": 0.48824201706937453,
        "modeled_topics": 7,
        "silhouette_score": 0.038885175963499934,
        "topics": {
         "-1": {
          "cluster_sizes": {
           "model_cluster_size": 121,
           "real_cluster_size": 161,
           "relevant_post_count": 98
          },
          "model_cluster_size / real_cluster_size": 0.75,
          "model_representation": "ингосстрах|россии|астра|росгосстрах|российских|информации|акции",
          "model_topic_id": 0,
          "precision (might be underestimated)": 0.81,
          "recall": 0.61,
          "topic_representation": null
         },
         "0": {
          "cluster_sizes": {
           "model_cluster_size": 121,
           "real_cluster_size": 2,
           "relevant_post_count": 2
          },
          "model_cluster_size / real_cluster_size": 60.5,
          "model_representation": "ингосстрах|россии|астра|росгосстрах|российских|информации|акции",
          "model_topic_id": 0,
          "precision (might be underestimated)": 0.02,
          "recall": 1,
          "topic_representation": "Новость - РУСАЛа"
         },
         "1": {
          "cluster_sizes": {
           "model_cluster_size": 42,
           "real_cluster_size": 79,
           "relevant_post_count": 37
          },
          "model_cluster_size / real_cluster_size": 0.53,
          "model_representation": "прививается не_каждый|прививок гриппа|физическую активность|большим скоплением|опрошенных рассказали|простуду грипп|хронические заболевания",
          "model_topic_id": 3,
          "precision (might be underestimated)": 0.88,
          "recall": 0.47,
          "topic_representation": "Опрос - болезни"
         },
         "2": {
          "cluster_sizes": {
           "model_cluster_size": 121,
           "real_cluster_size": 15,
           "relevant_post_count": 10
          },
          "model_cluster_size / real_cluster_size": 8.07,
          "model_representation": "ингосстрах|россии|астра|росгосстрах|российских|информации|акции",
          "model_topic_id": 0,
          "precision (might be underestimated)": 0.08,
          "recall": 0.67,
          "topic_representation": "Опрос - автострахование"
         },
         "3": {
          "cluster_sizes": {
           "model_cluster_size": 54,
           "real_cluster_size": 101,
           "relevant_post_count": 42
          },
          "model_cluster_size / real_cluster_size": 0.53,
          "model_representation": "параллельному импорту|рост цен|росгосстрах|проверки автомобилей|росгосстрах сервиса|импорту последний|цены повысились",
          "model_topic_id": 1,
          "precision (might be underestimated)": 0.78,
          "recall": 0.42,
          "topic_representation": "Опрос - рост цен"
         },
         "4": {
          "cluster_sizes": {
           "model_cluster_size": 47,
           "real_cluster_size": 23,
           "relevant_post_count": 19
          },
          "model_cluster_size / real_cluster_size": 2.04,
          "model_representation": "материнский капитал|материнского капитала|городов россии|трети опрошенных|медицинское страхование|совместное исследование|вопрос",
          "model_topic_id": 2,
          "precision (might be underestimated)": 0.4,
          "recall": 0.83,
          "topic_representation": "Опрос - материнский капитал"
         },
         "5": {
          "cluster_sizes": {
           "model_cluster_size": 75,
           "real_cluster_size": 13,
           "relevant_post_count": 13
          },
          "model_cluster_size / real_cluster_size": 5.77,
          "model_representation": "росгосстрах|рост цен|росгосстрах сервис|росгосстрах елена|розничного автострахования|автострахования пао|цен авто",
          "model_topic_id": -1,
          "precision (might be underestimated)": 0.17,
          "recall": 1,
          "topic_representation": "Опрос - прививки"
         }
        },
        "v_measure": 0.4364426468465414
       },
       "report_3_2_augmented_cleanedup_v2": {
        "completeness": 0.2792614229023142,
        "homogeneity": 0.4349844420581336,
        "modeled_topics": 8,
        "silhouette_score": 0.03311129275519527,
        "topics": {
         "-1": {
          "cluster_sizes": {
           "model_cluster_size": 220,
           "real_cluster_size": 245,
           "relevant_post_count": 171
          },
          "model_cluster_size / real_cluster_size": 0.9,
          "model_representation": "хутор|роза хутор|красная поляна|курорт|красной поляны|горах|красной поляне",
          "model_topic_id": 0,
          "precision (might be underestimated)": 0.78,
          "recall": 0.7,
          "topic_representation": null
         },
         "0": {
          "cluster_sizes": {
           "model_cluster_size": 27,
           "real_cluster_size": 30,
           "relevant_post_count": 23
          },
          "model_cluster_size / real_cluster_size": 0.9,
          "model_representation": "роза хутор|хутор|хутор проиграла|курорт горки|географическое название|правовой охраны|горнолыжных гигантов",
          "model_topic_id": 3,
          "precision (might be underestimated)": 0.85,
          "recall": 0.77,
          "topic_representation": "Суд Роза Хутор vs Красная Поляна"
         },
         "1": {
          "cluster_sizes": {
           "model_cluster_size": 220,
           "real_cluster_size": 119,
           "relevant_post_count": 42
          },
          "model_cluster_size / real_cluster_size": 1.85,
          "model_representation": "хутор|роза хутор|красная поляна|курорт|красной поляны|горах|красной поляне",
          "model_topic_id": 0,
          "precision (might be underestimated)": 0.19,
          "recall": 0.35,
          "topic_representation": "Пешеходная зона в Красной Поляне"
         },
         "2": {
          "cluster_sizes": {
           "model_cluster_size": 21,
           "real_cluster_size": 25,
           "relevant_post_count": 10
          },
          "model_cluster_size / real_cluster_size": 0.84,
          "model_representation": "красная поляна|россии|туристических территорий|органов власти|тысяч рублей|городских|отелей санаториев",
          "model_topic_id": 6,
          "precision (might be underestimated)": 0.48,
          "recall": 0.4,
          "topic_representation": "Конференции"
         }
        },
        "v_measure": 0.3401472243349996
       }
      },
      "text/plain": [
       "<IPython.core.display.JSON object>"
      ]
     },
     "execution_count": 72,
     "metadata": {
      "application/json": {
       "expanded": false,
       "root": "root"
      }
     },
     "output_type": "execute_result"
    }
   ],
   "source": []
  },
  {
   "cell_type": "code",
   "execution_count": null,
   "id": "bf510141-bf3d-4282-8641-0e9cd718eef8",
   "metadata": {},
   "outputs": [],
   "source": []
  },
  {
   "cell_type": "code",
   "execution_count": null,
   "id": "1b91d623-034d-4b65-95aa-2f31934cb0d4",
   "metadata": {},
   "outputs": [],
   "source": []
  }
 ],
 "metadata": {
  "kernelspec": {
   "display_name": "Python 3 (ipykernel)",
   "language": "python",
   "name": "python3"
  },
  "language_info": {
   "codemirror_mode": {
    "name": "ipython",
    "version": 3
   },
   "file_extension": ".py",
   "mimetype": "text/x-python",
   "name": "python",
   "nbconvert_exporter": "python",
   "pygments_lexer": "ipython3",
   "version": "3.11.3"
  }
 },
 "nbformat": 4,
 "nbformat_minor": 5
}
