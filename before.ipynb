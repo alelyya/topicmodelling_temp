{
 "cells": [
  {
   "cell_type": "code",
   "execution_count": 2,
   "id": "4ffd6aa1-8997-4a90-a3ce-90aef5bd82b2",
   "metadata": {
    "tags": []
   },
   "outputs": [],
   "source": [
    "report_3: ['Конференции', 'Суд Роза Хутор vs Красная Поляна', 'Пешеходная зона в Красной Поляне']\n",
    "report_1: ['Палестина и starbucks', 'Пинский пробил голову', 'Канье Уэст и жена', 'Посты в соцсетях', 'Профсоюз starbucks']\n",
    "report_2: ['Новость - РУСАЛа', 'Опрос - болезни', 'Опрос - рост цен', 'Опрос - прививки', 'Опрос - материнский капитал', 'Опрос - автострахование']\n",
    "clustered_report: ['Арутюнян, Сюжет', 'ПИК - лидер отрасли, Сюжет', 'Гордеев - акции', 'Потоп в ЖК на Ильменском', \n",
    "                   'Поправки в жилищный кодекс', 'ПИК и Абрамович', 'ПИК - негатив', \n",
    "                   'Коньяк «КиН», Сюжет', 'ПИК - банкротство', 'Гибель рабочего', 'ПИК - суды', \n",
    "                   'Больница им. Бахрушиных, Сюжет', 'Парковочные войны', 'Поджог башни', \n",
    "                   'ВТБ, Сюжет', 'Красный нефтяник, Сюжет']"
   ]
  },
  {
   "cell_type": "code",
   "execution_count": 5,
   "id": "ead41f8f-cf3d-4e2d-962e-e84893c06b2e",
   "metadata": {},
   "outputs": [
    {
     "name": "stdout",
     "output_type": "stream",
     "text": [
      "report_3_2_augmented_cleanedup\n"
     ]
    },
    {
     "data": {
      "text/html": [
       "<table border=\"1\" class=\"dataframe\">\n",
       "  <thead>\n",
       "    <tr style=\"text-align: right;\">\n",
       "      <th></th>\n",
       "      <th>Topic</th>\n",
       "      <th>Count</th>\n",
       "      <th>Real count</th>\n",
       "      <th>Representation</th>\n",
       "      <th>Real representation</th>\n",
       "    </tr>\n",
       "  </thead>\n",
       "  <tbody>\n",
       "    <tr>\n",
       "      <th>0</th>\n",
       "      <td>-1</td>\n",
       "      <td>21</td>\n",
       "      <td>NaN</td>\n",
       "      <td>['реклама', 'курорт', 'билайн', 'поляна', 'экранах', 'горнолыжных', 'россии', 'digital', 'шерегеш', 'года']</td>\n",
       "      <td>None</td>\n",
       "    </tr>\n",
       "    <tr>\n",
       "      <th>1</th>\n",
       "      <td>0</td>\n",
       "      <td>225</td>\n",
       "      <td>250.0</td>\n",
       "      <td>['сочи', 'хутор', 'роза', 'роза хутор', 'поляна', 'красная', 'красная поляна', 'горы', 'красной', 'отель']</td>\n",
       "      <td>None</td>\n",
       "    </tr>\n",
       "    <tr>\n",
       "      <th>2</th>\n",
       "      <td>1</td>\n",
       "      <td>69</td>\n",
       "      <td>NaN</td>\n",
       "      <td>['сочи', 'края', 'краснодарского', 'краснодарского края', 'поляна', 'курортов', 'красная поляна', 'красная', 'хутор', 'реализации']</td>\n",
       "      <td>None</td>\n",
       "    </tr>\n",
       "    <tr>\n",
       "      <th>3</th>\n",
       "      <td>2</td>\n",
       "      <td>50</td>\n",
       "      <td>25.0</td>\n",
       "      <td>['россии', '2023', 'сочи', 'спорту', '2026', 'начало', 'соревнования', 'красная', 'поляна', 'красная поляна']</td>\n",
       "      <td>Конференции</td>\n",
       "    </tr>\n",
       "    <tr>\n",
       "      <th>4</th>\n",
       "      <td>3</td>\n",
       "      <td>33</td>\n",
       "      <td>NaN</td>\n",
       "      <td>['поляна', 'красная поляна', 'красная', 'газпром', 'эсто', 'эсто садок', 'садок', 'роза хутор', 'роза', 'хутор']</td>\n",
       "      <td>None</td>\n",
       "    </tr>\n",
       "    <tr>\n",
       "      <th>5</th>\n",
       "      <td>4</td>\n",
       "      <td>27</td>\n",
       "      <td>30.0</td>\n",
       "      <td>['суд', 'курорт', 'названия', 'красная поляна', 'красная', 'поляна', 'роза хутор', 'курорта', 'роза', 'хутор']</td>\n",
       "      <td>Суд Роза Хутор vs Красная Поляна</td>\n",
       "    </tr>\n",
       "  </tbody>\n",
       "</table>"
      ],
      "text/plain": [
       "<IPython.core.display.HTML object>"
      ]
     },
     "metadata": {},
     "output_type": "display_data"
    },
    {
     "name": "stdout",
     "output_type": "stream",
     "text": [
      "report_1_2_augmented_cleanedup\n"
     ]
    },
    {
     "data": {
      "text/html": [
       "<table border=\"1\" class=\"dataframe\">\n",
       "  <thead>\n",
       "    <tr style=\"text-align: right;\">\n",
       "      <th></th>\n",
       "      <th>Topic</th>\n",
       "      <th>Count</th>\n",
       "      <th>Real count</th>\n",
       "      <th>Representation</th>\n",
       "      <th>Real representation</th>\n",
       "    </tr>\n",
       "  </thead>\n",
       "  <tbody>\n",
       "    <tr>\n",
       "      <th>0</th>\n",
       "      <td>-1</td>\n",
       "      <td>111</td>\n",
       "      <td>59.0</td>\n",
       "      <td>['starbucks', 'the', 'and', 'иностранных', 'которые', 'профсоюз', 'сша', 'nft', 'года', 'путина']</td>\n",
       "      <td>Профсоюз starbucks</td>\n",
       "    </tr>\n",
       "    <tr>\n",
       "      <th>1</th>\n",
       "      <td>0</td>\n",
       "      <td>110</td>\n",
       "      <td>322.0</td>\n",
       "      <td>['кофе', 'starbucks', 'цвета', 'цвет', 'этаж', 'брендов', 'coffee', '60', 'время', 'сеть']</td>\n",
       "      <td>None</td>\n",
       "    </tr>\n",
       "    <tr>\n",
       "      <th>2</th>\n",
       "      <td>1</td>\n",
       "      <td>65</td>\n",
       "      <td>76.0</td>\n",
       "      <td>['пинский', 'столб', 'ресторатор', 'антон', 'антон пинский', 'центре', 'москвы', 'центре москвы', 'ресторатор антон', 'голову']</td>\n",
       "      <td>Пинский пробил голову</td>\n",
       "    </tr>\n",
       "    <tr>\n",
       "      <th>3</th>\n",
       "      <td>2</td>\n",
       "      <td>64</td>\n",
       "      <td>23.0</td>\n",
       "      <td>['хамас', 'израиль', 'фото', 'starbucks', 'года', 'израиля', 'профсоюз', 'израиле', 'газа', 'против']</td>\n",
       "      <td>Палестина и starbucks</td>\n",
       "    </tr>\n",
       "    <tr>\n",
       "      <th>4</th>\n",
       "      <td>3</td>\n",
       "      <td>62</td>\n",
       "      <td>NaN</td>\n",
       "      <td>['кофе', 'starbucks', 'приготовления', 'напиток', 'бариста', 'капучино', 'латте', 'вкус', 'молоко', 'кофейных']</td>\n",
       "      <td>None</td>\n",
       "    </tr>\n",
       "    <tr>\n",
       "      <th>5</th>\n",
       "      <td>4</td>\n",
       "      <td>52</td>\n",
       "      <td>NaN</td>\n",
       "      <td>['сша', 'области', 'опережает', 'намного', 'многие', 'бизнес', 'компании', 'тим', 'социальной', 'общество']</td>\n",
       "      <td>None</td>\n",
       "    </tr>\n",
       "    <tr>\n",
       "      <th>6</th>\n",
       "      <td>5</td>\n",
       "      <td>31</td>\n",
       "      <td>17.0</td>\n",
       "      <td>['канье', 'уэст', 'канье уэст', 'жена', 'тело', 'starbucks', 'выхода', 'шульц', 'правда', 'летняя']</td>\n",
       "      <td>Канье Уэст и жена</td>\n",
       "    </tr>\n",
       "    <tr>\n",
       "      <th>7</th>\n",
       "      <td>6</td>\n",
       "      <td>21</td>\n",
       "      <td>NaN</td>\n",
       "      <td>['сказала', 'мужу', 'сама', 'именно', 'кофе', 'выпить кофе', 'земель', 'собирается', 'выпить', 'дамы']</td>\n",
       "      <td>None</td>\n",
       "    </tr>\n",
       "  </tbody>\n",
       "</table>"
      ],
      "text/plain": [
       "<IPython.core.display.HTML object>"
      ]
     },
     "metadata": {},
     "output_type": "display_data"
    },
    {
     "name": "stdout",
     "output_type": "stream",
     "text": [
      "report_2_2_augmented_cleanedup\n"
     ]
    },
    {
     "data": {
      "text/html": [
       "<table border=\"1\" class=\"dataframe\">\n",
       "  <thead>\n",
       "    <tr style=\"text-align: right;\">\n",
       "      <th></th>\n",
       "      <th>Topic</th>\n",
       "      <th>Count</th>\n",
       "      <th>Real count</th>\n",
       "      <th>Representation</th>\n",
       "      <th>Real representation</th>\n",
       "    </tr>\n",
       "  </thead>\n",
       "  <tbody>\n",
       "    <tr>\n",
       "      <th>0</th>\n",
       "      <td>-1</td>\n",
       "      <td>91</td>\n",
       "      <td>164.0</td>\n",
       "      <td>['акции', 'года', '2023', 'среди', 'рынка', 'машин', 'также', 'авто', 'автомобилей', 'россии']</td>\n",
       "      <td>None</td>\n",
       "    </tr>\n",
       "    <tr>\n",
       "      <th>1</th>\n",
       "      <td>0</td>\n",
       "      <td>51</td>\n",
       "      <td>102.0</td>\n",
       "      <td>['параллельному', 'цен', 'автомобилей', 'импорту', 'параллельному импорту', 'год', 'рост цен', 'считают', 'последний год', 'последний']</td>\n",
       "      <td>Опрос - рост цен</td>\n",
       "    </tr>\n",
       "    <tr>\n",
       "      <th>2</th>\n",
       "      <td>1</td>\n",
       "      <td>49</td>\n",
       "      <td>NaN</td>\n",
       "      <td>['рубля', 'года', 'компании', 'рублей', 'выручки', 'акций', 'курс', 'инвесторов', 'также', 'млрд']</td>\n",
       "      <td>None</td>\n",
       "    </tr>\n",
       "    <tr>\n",
       "      <th>3</th>\n",
       "      <td>2</td>\n",
       "      <td>47</td>\n",
       "      <td>23.0</td>\n",
       "      <td>['материнский капитал', 'материнский', 'капитал', 'поддержки', 'также', 'каждый', 'самых', 'меньше', 'материнского', 'материнского капитала']</td>\n",
       "      <td>Опрос - материнский капитал</td>\n",
       "    </tr>\n",
       "    <tr>\n",
       "      <th>4</th>\n",
       "      <td>3</td>\n",
       "      <td>42</td>\n",
       "      <td>79.0</td>\n",
       "      <td>['осенью', 'опрошенных', 'гриппа', 'признались', 'омичей', 'чаще', 'респондентов', 'лечатся', 'время', 'рассказали']</td>\n",
       "      <td>Опрос - болезни</td>\n",
       "    </tr>\n",
       "    <tr>\n",
       "      <th>5</th>\n",
       "      <td>4</td>\n",
       "      <td>28</td>\n",
       "      <td>NaN</td>\n",
       "      <td>['параллельному', 'машин', 'росгосстрах', 'производителя', 'параллельному импорту', 'импорту', 'автомобилей', 'автодилеров', 'пао', 'пао росгосстрах']</td>\n",
       "      <td>None</td>\n",
       "    </tr>\n",
       "    <tr>\n",
       "      <th>6</th>\n",
       "      <td>5</td>\n",
       "      <td>27</td>\n",
       "      <td>NaN</td>\n",
       "      <td>['респондентов', 'избежать', 'грипп', 'росгосстрах', 'принимают', 'осенью', 'признались', 'самостоятельно', 'помощью', 'лечатся']</td>\n",
       "      <td>None</td>\n",
       "    </tr>\n",
       "    <tr>\n",
       "      <th>7</th>\n",
       "      <td>6</td>\n",
       "      <td>22</td>\n",
       "      <td>15.0</td>\n",
       "      <td>['ресо', 'ресо гарантия', 'гарантия', 'компании', 'сао', 'страховой', 'ингосстрах', 'ингосстраха', 'страхования', 'полиса']</td>\n",
       "      <td>Опрос - автострахование</td>\n",
       "    </tr>\n",
       "    <tr>\n",
       "      <th>8</th>\n",
       "      <td>7</td>\n",
       "      <td>21</td>\n",
       "      <td>NaN</td>\n",
       "      <td>['ингосстрах', 'компании', 'году', 'кредит', '2023', 'года', 'качества', 'полугодии 2023', 'также', 'полугодии']</td>\n",
       "      <td>None</td>\n",
       "    </tr>\n",
       "    <tr>\n",
       "      <th>9</th>\n",
       "      <td>8</td>\n",
       "      <td>20</td>\n",
       "      <td>2.0</td>\n",
       "      <td>['дтп', 'не_было', 'поле', 'дтп участием', 'участием', 'результате', 'сим', 'двух', 'индивидуальной', 'омск']</td>\n",
       "      <td>Новость - РУСАЛа</td>\n",
       "    </tr>\n",
       "  </tbody>\n",
       "</table>"
      ],
      "text/plain": [
       "<IPython.core.display.HTML object>"
      ]
     },
     "metadata": {},
     "output_type": "display_data"
    },
    {
     "name": "stdout",
     "output_type": "stream",
     "text": [
      "clustered_report_augmented_cleanedup\n"
     ]
    },
    {
     "data": {
      "text/html": [
       "<table border=\"1\" class=\"dataframe\">\n",
       "  <thead>\n",
       "    <tr style=\"text-align: right;\">\n",
       "      <th></th>\n",
       "      <th>Topic</th>\n",
       "      <th>Count</th>\n",
       "      <th>Real count</th>\n",
       "      <th>Representation</th>\n",
       "      <th>Real representation</th>\n",
       "    </tr>\n",
       "  </thead>\n",
       "  <tbody>\n",
       "    <tr>\n",
       "      <th>0</th>\n",
       "      <td>-1</td>\n",
       "      <td>632</td>\n",
       "      <td>1286.0</td>\n",
       "      <td>['пик', 'также', 'компания', 'группы', 'года', 'компании', 'жилья', 'сергей', 'гордеев', 'застройщика']</td>\n",
       "      <td>None</td>\n",
       "    </tr>\n",
       "    <tr>\n",
       "      <th>1</th>\n",
       "      <td>0</td>\n",
       "      <td>135</td>\n",
       "      <td>NaN</td>\n",
       "      <td>['трещина', 'дома', 'дом', 'ленинского', 'ленинского городского', 'здания', 'пик', 'городского', 'городского округа', 'округа']</td>\n",
       "      <td>None</td>\n",
       "    </tr>\n",
       "    <tr>\n",
       "      <th>2</th>\n",
       "      <td>1</td>\n",
       "      <td>106</td>\n",
       "      <td>NaN</td>\n",
       "      <td>['руб', 'млрд', 'года', 'млрд руб', 'акции', 'рублей', 'ставки', 'акций', '2023', 'рост']</td>\n",
       "      <td>None</td>\n",
       "    </tr>\n",
       "    <tr>\n",
       "      <th>3</th>\n",
       "      <td>2</td>\n",
       "      <td>81</td>\n",
       "      <td>63.0</td>\n",
       "      <td>['гордеева', 'сергей', 'собственников', 'сергея', 'сергея гордеева', 'рублей', 'жителей', 'мади', 'главе пик', 'скандального']</td>\n",
       "      <td>ПИК - суды</td>\n",
       "    </tr>\n",
       "    <tr>\n",
       "      <th>4</th>\n",
       "      <td>3</td>\n",
       "      <td>80</td>\n",
       "      <td>NaN</td>\n",
       "      <td>['ремонт', 'красный нефтяник', 'нефтяник', 'красный', 'нефтяник фрунзенском', 'петербурга', 'фрунзенском', 'фрунзенском районе', 'стены', 'жилье территории']</td>\n",
       "      <td>None</td>\n",
       "    </tr>\n",
       "    <tr>\n",
       "      <th>5</th>\n",
       "      <td>4</td>\n",
       "      <td>75</td>\n",
       "      <td>NaN</td>\n",
       "      <td>['гордеев', 'сергей гордеев', 'акций', 'сергей', 'компания', 'долю', 'фонд', 'компании', 'пика', 'снизил долю']</td>\n",
       "      <td>None</td>\n",
       "    </tr>\n",
       "    <tr>\n",
       "      <th>6</th>\n",
       "      <td>5</td>\n",
       "      <td>61</td>\n",
       "      <td>10.0</td>\n",
       "      <td>['башни', 'башня', 'башне', 'культурного наследия', 'наследия', 'пожар', 'культурного', 'памятника', 'яуза парк', 'яуза']</td>\n",
       "      <td>Поджог башни</td>\n",
       "    </tr>\n",
       "    <tr>\n",
       "      <th>7</th>\n",
       "      <td>6</td>\n",
       "      <td>60</td>\n",
       "      <td>70.0</td>\n",
       "      <td>['млн', 'строительства', 'застройщиков', 'текущего', 'тыс', 'а101', 'место', 'донстрой', 'жилья', 'группа']</td>\n",
       "      <td>ПИК - лидер отрасли, Сюжет</td>\n",
       "    </tr>\n",
       "    <tr>\n",
       "      <th>8</th>\n",
       "      <td>7</td>\n",
       "      <td>57</td>\n",
       "      <td>NaN</td>\n",
       "      <td>['проект', 'ремонт', 'квартира', 'парк', 'метро', 'квартиры', 'дизайн', 'видео', 'жилой', 'комплекс']</td>\n",
       "      <td>None</td>\n",
       "    </tr>\n",
       "    <tr>\n",
       "      <th>9</th>\n",
       "      <td>8</td>\n",
       "      <td>52</td>\n",
       "      <td>NaN</td>\n",
       "      <td>['территории', 'завода', 'земли', 'строительство', 'города', 'застройки', 'участка', 'построить', 'жилья', 'красный нефтяник']</td>\n",
       "      <td>None</td>\n",
       "    </tr>\n",
       "    <tr>\n",
       "      <th>10</th>\n",
       "      <td>9</td>\n",
       "      <td>52</td>\n",
       "      <td>39.0</td>\n",
       "      <td>['фсб', 'абрамовича', 'сергей', 'претензий', 'гордеева', 'предприниматели', 'министр', 'долю', 'сергея', 'меркушенко']</td>\n",
       "      <td>ПИК и Абрамович</td>\n",
       "    </tr>\n",
       "    <tr>\n",
       "      <th>11</th>\n",
       "      <td>10</td>\n",
       "      <td>47</td>\n",
       "      <td>51.0</td>\n",
       "      <td>['гетто', 'ильинские', 'ильинские луга', 'луга', 'микрорайоне', 'красный', 'нефтяник', 'красный нефтяник', 'проблем', 'микрорайон']</td>\n",
       "      <td>Красный нефтяник, Сюжет</td>\n",
       "    </tr>\n",
       "    <tr>\n",
       "      <th>12</th>\n",
       "      <td>11</td>\n",
       "      <td>46</td>\n",
       "      <td>NaN</td>\n",
       "      <td>['альбом', 'the', 'группы', 'альбома', 'рок', 'фильм', 'группа', 'клаксон', 'первый', 'рено']</td>\n",
       "      <td>None</td>\n",
       "    </tr>\n",
       "    <tr>\n",
       "      <th>13</th>\n",
       "      <td>12</td>\n",
       "      <td>42</td>\n",
       "      <td>NaN</td>\n",
       "      <td>['жилье пик', 'известной', 'опасным', 'девелопера гордеева', 'среда', 'столичных застройщиков', 'строчку рейтинге', 'рейтинге столичных', 'первую строчку', 'прежнему занимает']</td>\n",
       "      <td>None</td>\n",
       "    </tr>\n",
       "    <tr>\n",
       "      <th>14</th>\n",
       "      <td>13</td>\n",
       "      <td>41</td>\n",
       "      <td>NaN</td>\n",
       "      <td>['москва', 'перспективы', 'застройщиков', 'санкт', 'российский строительный', 'переживает', 'времена', 'строительный', 'сложные', 'строительного рынка']</td>\n",
       "      <td>None</td>\n",
       "    </tr>\n",
       "    <tr>\n",
       "      <th>15</th>\n",
       "      <td>14</td>\n",
       "      <td>38</td>\n",
       "      <td>NaN</td>\n",
       "      <td>['новостройки', 'янино', 'спб', 'расцветай', 'квартиру', 'нам', 'квартиры', 'петербурга', 'рублей', 'петербурге']</td>\n",
       "      <td>None</td>\n",
       "    </tr>\n",
       "    <tr>\n",
       "      <th>16</th>\n",
       "      <td>15</td>\n",
       "      <td>35</td>\n",
       "      <td>132.0</td>\n",
       "      <td>['банк', 'банк втб', 'втб', 'избавиться', 'решил', 'акций пик', 'решил избавиться', 'пакета', 'сделки', 'тандем крупного']</td>\n",
       "      <td>ВТБ, Сюжет</td>\n",
       "    </tr>\n",
       "    <tr>\n",
       "      <th>17</th>\n",
       "      <td>16</td>\n",
       "      <td>31</td>\n",
       "      <td>NaN</td>\n",
       "      <td>['парковку', 'очень', 'парковочных', 'мякинино', 'машины', 'вынуждены', 'мякинино парк', 'запрещающих', 'дороги', 'мест']</td>\n",
       "      <td>None</td>\n",
       "    </tr>\n",
       "    <tr>\n",
       "      <th>18</th>\n",
       "      <td>17</td>\n",
       "      <td>31</td>\n",
       "      <td>NaN</td>\n",
       "      <td>['развития', 'конференция', 'образования', 'тор', 'страны', 'россии', 'мест', 'школу', '1200', 'группа']</td>\n",
       "      <td>None</td>\n",
       "    </tr>\n",
       "    <tr>\n",
       "      <th>19</th>\n",
       "      <td>18</td>\n",
       "      <td>28</td>\n",
       "      <td>NaN</td>\n",
       "      <td>['принадлежавшие', 'известного застройщика', 'пик продав', 'продав', 'вышел капитала', 'скандально известного', 'втб вышел', 'известного', 'втб', 'вышел']</td>\n",
       "      <td>None</td>\n",
       "    </tr>\n",
       "    <tr>\n",
       "      <th>20</th>\n",
       "      <td>19</td>\n",
       "      <td>28</td>\n",
       "      <td>NaN</td>\n",
       "      <td>['трц', 'подконтрольная', 'management', 'продает', 'столичные', 'основатель', 'компания', 'помощью', 'вариант', 'девелоперу сергею']</td>\n",
       "      <td>None</td>\n",
       "    </tr>\n",
       "    <tr>\n",
       "      <th>21</th>\n",
       "      <td>20</td>\n",
       "      <td>27</td>\n",
       "      <td>NaN</td>\n",
       "      <td>['школа', 'школы', 'появится', 'школах', 'летово', 'школ', 'дети', 'смогут', 'детей', 'благовещенске']</td>\n",
       "      <td>None</td>\n",
       "    </tr>\n",
       "    <tr>\n",
       "      <th>22</th>\n",
       "      <td>21</td>\n",
       "      <td>26</td>\n",
       "      <td>50.0</td>\n",
       "      <td>['наследство', 'вагана арутюняна', 'вагана', 'арутюняна', 'знатно', 'портфель', 'свой', 'свой портфель', 'новыми', 'олигарху']</td>\n",
       "      <td>Арутюнян, Сюжет</td>\n",
       "    </tr>\n",
       "    <tr>\n",
       "      <th>23</th>\n",
       "      <td>22</td>\n",
       "      <td>26</td>\n",
       "      <td>NaN</td>\n",
       "      <td>['выкупила часть', 'пик выкупила', 'выкупила', 'часть территории', 'территории', 'коньячного', 'часть', 'жилья', 'построить', 'тыс жилья']</td>\n",
       "      <td>None</td>\n",
       "    </tr>\n",
       "    <tr>\n",
       "      <th>24</th>\n",
       "      <td>23</td>\n",
       "      <td>24</td>\n",
       "      <td>NaN</td>\n",
       "      <td>['вице', 'вакансий', 'вице президента', 'партнер', 'президента', 'эталон', 'менеджмента', 'станислав', 'специалистов', 'бизнеса']</td>\n",
       "      <td>None</td>\n",
       "    </tr>\n",
       "    <tr>\n",
       "      <th>25</th>\n",
       "      <td>24</td>\n",
       "      <td>23</td>\n",
       "      <td>NaN</td>\n",
       "      <td>['сигнальный', 'корпуса', 'квартир', 'дольщикам корпуса', 'дольщикам', 'жилом', 'отрадное', 'проекте', 'парк', 'жилом квартале']</td>\n",
       "      <td>None</td>\n",
       "    </tr>\n",
       "    <tr>\n",
       "      <th>26</th>\n",
       "      <td>25</td>\n",
       "      <td>22</td>\n",
       "      <td>NaN</td>\n",
       "      <td>['валовой', 'рублей', 'городах', 'млн', 'сверхприбыль', 'бюджет', 'покупке', 'часть', 'перечислить', 'жилья']</td>\n",
       "      <td>None</td>\n",
       "    </tr>\n",
       "    <tr>\n",
       "      <th>27</th>\n",
       "      <td>26</td>\n",
       "      <td>20</td>\n",
       "      <td>NaN</td>\n",
       "      <td>['мест', 'детский сад', 'детский', 'сад', '215', 'детского', 'детского сада', 'сада', 'пятова', 'green park']</td>\n",
       "      <td>None</td>\n",
       "    </tr>\n",
       "    <tr>\n",
       "      <th>28</th>\n",
       "      <td>27</td>\n",
       "      <td>20</td>\n",
       "      <td>NaN</td>\n",
       "      <td>['нельсон', 'красногвардейском', 'красногвардейском районе', 'участок', 'ооо', 'ооо нельсон', 'принадлежит', 'районе', 'очаково', 'ооо магнитогорская']</td>\n",
       "      <td>None</td>\n",
       "    </tr>\n",
       "    <tr>\n",
       "      <th>29</th>\n",
       "      <td>28</td>\n",
       "      <td>20</td>\n",
       "      <td>29.0</td>\n",
       "      <td>['радиоактивных отходов', 'захоронения', 'радиоактивных', 'захоронения радиоактивных', 'отходов', 'поселиться', 'равно', 'предлагает', 'сообщает корреспондент', 'кладбища']</td>\n",
       "      <td>ПИК - негатив</td>\n",
       "    </tr>\n",
       "  </tbody>\n",
       "</table>"
      ],
      "text/plain": [
       "<IPython.core.display.HTML object>"
      ]
     },
     "metadata": {},
     "output_type": "display_data"
    }
   ],
   "source": []
  },
  {
   "cell_type": "code",
   "execution_count": 5,
   "id": "188e343b-1cc5-4a9d-9b87-8ce2260ab454",
   "metadata": {},
   "outputs": [
    {
     "data": {
      "application/json": {
       "clustered_report_augmented_cleanedup": {
        "completeness": 0.18910008883883273,
        "homogeneity": 0.3553987601712013,
        "modeled_topics": 30,
        "silhouette_score": -0.021140300896939673,
        "topics": {
         "-1": {
          "cluster_sizes": {
           "model_cluster_size": 632,
           "real_cluster_size": 1286,
           "relevant_post_count": 381
          },
          "model_cluster_size / real_cluster_size": 0.49,
          "model_representation": "пик|также|компания|группы|года|компании|жилья|сергей|гордеев|застройщика",
          "model_topic_id": -1,
          "precision (might be underestimated)": 0.6,
          "recall": 0.3,
          "topic_representation": null
         },
         "0": {
          "cluster_sizes": {
           "model_cluster_size": 632,
           "real_cluster_size": 12,
           "relevant_post_count": 10
          },
          "model_cluster_size / real_cluster_size": 52.67,
          "model_representation": "пик|также|компания|группы|года|компании|жилья|сергей|гордеев|застройщика",
          "model_topic_id": -1,
          "precision (might be underestimated)": 0.02,
          "recall": 0.83,
          "topic_representation": "Больница им. Бахрушиных, Сюжет"
         },
         "1": {
          "cluster_sizes": {
           "model_cluster_size": 26,
           "real_cluster_size": 50,
           "relevant_post_count": 26
          },
          "model_cluster_size / real_cluster_size": 0.52,
          "model_representation": "наследство|вагана арутюняна|вагана|арутюняна|знатно|портфель|свой|свой портфель|новыми|олигарху",
          "model_topic_id": 21,
          "precision (might be underestimated)": 1,
          "recall": 0.52,
          "topic_representation": "Арутюнян, Сюжет"
         },
         "10": {
          "cluster_sizes": {
           "model_cluster_size": 632,
           "real_cluster_size": 6,
           "relevant_post_count": 6
          },
          "model_cluster_size / real_cluster_size": 105.33,
          "model_representation": "пик|также|компания|группы|года|компании|жилья|сергей|гордеев|застройщика",
          "model_topic_id": -1,
          "precision (might be underestimated)": 0.01,
          "recall": 1,
          "topic_representation": "Гибель рабочего"
         },
         "11": {
          "cluster_sizes": {
           "model_cluster_size": 61,
           "real_cluster_size": 10,
           "relevant_post_count": 5
          },
          "model_cluster_size / real_cluster_size": 6.1,
          "model_representation": "башни|башня|башне|культурного наследия|наследия|пожар|культурного|памятника|яуза парк|яуза",
          "model_topic_id": 5,
          "precision (might be underestimated)": 0.08,
          "recall": 0.5,
          "topic_representation": "Поджог башни"
         },
         "12": {
          "cluster_sizes": {
           "model_cluster_size": 632,
           "real_cluster_size": 35,
           "relevant_post_count": 15
          },
          "model_cluster_size / real_cluster_size": 18.06,
          "model_representation": "пик|также|компания|группы|года|компании|жилья|сергей|гордеев|застройщика",
          "model_topic_id": -1,
          "precision (might be underestimated)": 0.02,
          "recall": 0.43,
          "topic_representation": "ПИК - банкротство"
         },
         "13": {
          "cluster_sizes": {
           "model_cluster_size": 81,
           "real_cluster_size": 63,
           "relevant_post_count": 38
          },
          "model_cluster_size / real_cluster_size": 1.29,
          "model_representation": "гордеева|сергей|собственников|сергея|сергея гордеева|рублей|жителей|мади|главе пик|скандального",
          "model_topic_id": 2,
          "precision (might be underestimated)": 0.47,
          "recall": 0.6,
          "topic_representation": "ПИК - суды"
         },
         "14": {
          "cluster_sizes": {
           "model_cluster_size": 632,
           "real_cluster_size": 13,
           "relevant_post_count": 13
          },
          "model_cluster_size / real_cluster_size": 48.62,
          "model_representation": "пик|также|компания|группы|года|компании|жилья|сергей|гордеев|застройщика",
          "model_topic_id": -1,
          "precision (might be underestimated)": 0.02,
          "recall": 1,
          "topic_representation": "Парковочные войны"
         },
         "15": {
          "cluster_sizes": {
           "model_cluster_size": 632,
           "real_cluster_size": 12,
           "relevant_post_count": 12
          },
          "model_cluster_size / real_cluster_size": 52.67,
          "model_representation": "пик|также|компания|группы|года|компании|жилья|сергей|гордеев|застройщика",
          "model_topic_id": -1,
          "precision (might be underestimated)": 0.02,
          "recall": 1,
          "topic_representation": "Потоп в ЖК на Ильменском"
         },
         "2": {
          "cluster_sizes": {
           "model_cluster_size": 35,
           "real_cluster_size": 132,
           "relevant_post_count": 34
          },
          "model_cluster_size / real_cluster_size": 0.27,
          "model_representation": "банк|банк втб|втб|избавиться|решил|акций пик|решил избавиться|пакета|сделки|тандем крупного",
          "model_topic_id": 15,
          "precision (might be underestimated)": 0.97,
          "recall": 0.26,
          "topic_representation": "ВТБ, Сюжет"
         },
         "3": {
          "cluster_sizes": {
           "model_cluster_size": 632,
           "real_cluster_size": 6,
           "relevant_post_count": 5
          },
          "model_cluster_size / real_cluster_size": 105.33,
          "model_representation": "пик|также|компания|группы|года|компании|жилья|сергей|гордеев|застройщика",
          "model_topic_id": -1,
          "precision (might be underestimated)": 0.01,
          "recall": 0.83,
          "topic_representation": "Поправки в жилищный кодекс"
         },
         "4": {
          "cluster_sizes": {
           "model_cluster_size": 632,
           "real_cluster_size": 62,
           "relevant_post_count": 37
          },
          "model_cluster_size / real_cluster_size": 10.19,
          "model_representation": "пик|также|компания|группы|года|компании|жилья|сергей|гордеев|застройщика",
          "model_topic_id": -1,
          "precision (might be underestimated)": 0.06,
          "recall": 0.6,
          "topic_representation": "Коньяк «КиН», Сюжет"
         },
         "5": {
          "cluster_sizes": {
           "model_cluster_size": 47,
           "real_cluster_size": 51,
           "relevant_post_count": 13
          },
          "model_cluster_size / real_cluster_size": 0.92,
          "model_representation": "гетто|ильинские|ильинские луга|луга|микрорайоне|красный|нефтяник|красный нефтяник|проблем|микрорайон",
          "model_topic_id": 10,
          "precision (might be underestimated)": 0.28,
          "recall": 0.25,
          "topic_representation": "Красный нефтяник, Сюжет"
         },
         "6": {
          "cluster_sizes": {
           "model_cluster_size": 20,
           "real_cluster_size": 29,
           "relevant_post_count": 20
          },
          "model_cluster_size / real_cluster_size": 0.69,
          "model_representation": "радиоактивных отходов|захоронения|радиоактивных|захоронения радиоактивных|отходов|поселиться|равно|предлагает|сообщает корреспондент|кладбища",
          "model_topic_id": 28,
          "precision (might be underestimated)": 1,
          "recall": 0.69,
          "topic_representation": "ПИК - негатив"
         },
         "7": {
          "cluster_sizes": {
           "model_cluster_size": 632,
           "real_cluster_size": 90,
           "relevant_post_count": 37
          },
          "model_cluster_size / real_cluster_size": 7.02,
          "model_representation": "пик|также|компания|группы|года|компании|жилья|сергей|гордеев|застройщика",
          "model_topic_id": -1,
          "precision (might be underestimated)": 0.06,
          "recall": 0.41,
          "topic_representation": "Гордеев - акции"
         },
         "8": {
          "cluster_sizes": {
           "model_cluster_size": 52,
           "real_cluster_size": 39,
           "relevant_post_count": 22
          },
          "model_cluster_size / real_cluster_size": 1.33,
          "model_representation": "фсб|абрамовича|сергей|претензий|гордеева|предприниматели|министр|долю|сергея|меркушенко",
          "model_topic_id": 9,
          "precision (might be underestimated)": 0.42,
          "recall": 0.56,
          "topic_representation": "ПИК и Абрамович"
         },
         "9": {
          "cluster_sizes": {
           "model_cluster_size": 60,
           "real_cluster_size": 70,
           "relevant_post_count": 28
          },
          "model_cluster_size / real_cluster_size": 0.86,
          "model_representation": "млн|строительства|застройщиков|текущего|тыс|а101|место|донстрой|жилья|группа",
          "model_topic_id": 6,
          "precision (might be underestimated)": 0.47,
          "recall": 0.4,
          "topic_representation": "ПИК - лидер отрасли, Сюжет"
         }
        },
        "v_measure": 0.24685428534430828
       },
       "report_1_2_augmented_cleanedup": {
        "completeness": 0.25736407328113897,
        "homogeneity": 0.4224919274907548,
        "modeled_topics": 8,
        "silhouette_score": 0.07374652057966927,
        "topics": {
         "-1": {
          "cluster_sizes": {
           "model_cluster_size": 110,
           "real_cluster_size": 322,
           "relevant_post_count": 94
          },
          "model_cluster_size / real_cluster_size": 0.34,
          "model_representation": "кофе|starbucks|цвета|цвет|этаж|брендов|coffee|60|время|сеть",
          "model_topic_id": 0,
          "precision (might be underestimated)": 0.85,
          "recall": 0.29,
          "topic_representation": null
         },
         "0": {
          "cluster_sizes": {
           "model_cluster_size": 111,
           "real_cluster_size": 59,
           "relevant_post_count": 30
          },
          "model_cluster_size / real_cluster_size": 1.88,
          "model_representation": "starbucks|the|and|иностранных|которые|профсоюз|сша|nft|года|путина",
          "model_topic_id": -1,
          "precision (might be underestimated)": 0.27,
          "recall": 0.51,
          "topic_representation": "Профсоюз starbucks"
         },
         "1": {
          "cluster_sizes": {
           "model_cluster_size": 64,
           "real_cluster_size": 23,
           "relevant_post_count": 17
          },
          "model_cluster_size / real_cluster_size": 2.78,
          "model_representation": "хамас|израиль|фото|starbucks|года|израиля|профсоюз|израиле|газа|против",
          "model_topic_id": 2,
          "precision (might be underestimated)": 0.27,
          "recall": 0.74,
          "topic_representation": "Палестина и starbucks"
         },
         "2": {
          "cluster_sizes": {
           "model_cluster_size": 110,
           "real_cluster_size": 19,
           "relevant_post_count": 8
          },
          "model_cluster_size / real_cluster_size": 5.79,
          "model_representation": "кофе|starbucks|цвета|цвет|этаж|брендов|coffee|60|время|сеть",
          "model_topic_id": 0,
          "precision (might be underestimated)": 0.07,
          "recall": 0.42,
          "topic_representation": "Посты в соцсетях"
         },
         "3": {
          "cluster_sizes": {
           "model_cluster_size": 31,
           "real_cluster_size": 17,
           "relevant_post_count": 14
          },
          "model_cluster_size / real_cluster_size": 1.82,
          "model_representation": "канье|уэст|канье уэст|жена|тело|starbucks|выхода|шульц|правда|летняя",
          "model_topic_id": 5,
          "precision (might be underestimated)": 0.45,
          "recall": 0.82,
          "topic_representation": "Канье Уэст и жена"
         },
         "4": {
          "cluster_sizes": {
           "model_cluster_size": 65,
           "real_cluster_size": 76,
           "relevant_post_count": 58
          },
          "model_cluster_size / real_cluster_size": 0.86,
          "model_representation": "пинский|столб|ресторатор|антон|антон пинский|центре|москвы|центре москвы|ресторатор антон|голову",
          "model_topic_id": 1,
          "precision (might be underestimated)": 0.89,
          "recall": 0.76,
          "topic_representation": "Пинский пробил голову"
         }
        },
        "v_measure": 0.3198743359298609
       },
       "report_2_2_augmented_cleanedup": {
        "completeness": 0.35497855099895637,
        "homogeneity": 0.5300724098368399,
        "modeled_topics": 10,
        "silhouette_score": 0.0857950725697293,
        "topics": {
         "-1": {
          "cluster_sizes": {
           "model_cluster_size": 91,
           "real_cluster_size": 164,
           "relevant_post_count": 55
          },
          "model_cluster_size / real_cluster_size": 0.55,
          "model_representation": "акции|года|2023|среди|рынка|машин|также|авто|автомобилей|россии",
          "model_topic_id": -1,
          "precision (might be underestimated)": 0.6,
          "recall": 0.34,
          "topic_representation": null
         },
         "0": {
          "cluster_sizes": {
           "model_cluster_size": 51,
           "real_cluster_size": 102,
           "relevant_post_count": 45
          },
          "model_cluster_size / real_cluster_size": 0.5,
          "model_representation": "параллельному|цен|автомобилей|импорту|параллельному импорту|год|рост цен|считают|последний год|последний",
          "model_topic_id": 0,
          "precision (might be underestimated)": 0.88,
          "recall": 0.44,
          "topic_representation": "Опрос - рост цен"
         },
         "1": {
          "cluster_sizes": {
           "model_cluster_size": 47,
           "real_cluster_size": 23,
           "relevant_post_count": 19
          },
          "model_cluster_size / real_cluster_size": 2.04,
          "model_representation": "материнский капитал|материнский|капитал|поддержки|также|каждый|самых|меньше|материнского|материнского капитала",
          "model_topic_id": 2,
          "precision (might be underestimated)": 0.4,
          "recall": 0.83,
          "topic_representation": "Опрос - материнский капитал"
         },
         "2": {
          "cluster_sizes": {
           "model_cluster_size": 91,
           "real_cluster_size": 13,
           "relevant_post_count": 9
          },
          "model_cluster_size / real_cluster_size": 7,
          "model_representation": "акции|года|2023|среди|рынка|машин|также|авто|автомобилей|россии",
          "model_topic_id": -1,
          "precision (might be underestimated)": 0.1,
          "recall": 0.69,
          "topic_representation": "Опрос - прививки"
         },
         "3": {
          "cluster_sizes": {
           "model_cluster_size": 20,
           "real_cluster_size": 2,
           "relevant_post_count": 2
          },
          "model_cluster_size / real_cluster_size": 10,
          "model_representation": "дтп|не_было|поле|дтп участием|участием|результате|сим|двух|индивидуальной|омск",
          "model_topic_id": 8,
          "precision (might be underestimated)": 0.1,
          "recall": 1,
          "topic_representation": "Новость - РУСАЛа"
         },
         "4": {
          "cluster_sizes": {
           "model_cluster_size": 22,
           "real_cluster_size": 15,
           "relevant_post_count": 5
          },
          "model_cluster_size / real_cluster_size": 1.47,
          "model_representation": "ресо|ресо гарантия|гарантия|компании|сао|страховой|ингосстрах|ингосстраха|страхования|полиса",
          "model_topic_id": 6,
          "precision (might be underestimated)": 0.23,
          "recall": 0.33,
          "topic_representation": "Опрос - автострахование"
         },
         "5": {
          "cluster_sizes": {
           "model_cluster_size": 42,
           "real_cluster_size": 79,
           "relevant_post_count": 37
          },
          "model_cluster_size / real_cluster_size": 0.53,
          "model_representation": "осенью|опрошенных|гриппа|признались|омичей|чаще|респондентов|лечатся|время|рассказали",
          "model_topic_id": 3,
          "precision (might be underestimated)": 0.88,
          "recall": 0.47,
          "topic_representation": "Опрос - болезни"
         }
        },
        "v_measure": 0.4252056532218523
       },
       "report_3_2_augmented_cleanedup": {
        "completeness": 0.27199387479200887,
        "homogeneity": 0.37377290183257894,
        "modeled_topics": 6,
        "silhouette_score": 0.02153766007408077,
        "topics": {
         "-1": {
          "cluster_sizes": {
           "model_cluster_size": 225,
           "real_cluster_size": 250,
           "relevant_post_count": 175
          },
          "model_cluster_size / real_cluster_size": 0.9,
          "model_representation": "сочи|хутор|роза|роза хутор|поляна|красная|красная поляна|горы|красной|отель",
          "model_topic_id": 0,
          "precision (might be underestimated)": 0.78,
          "recall": 0.7,
          "topic_representation": null
         },
         "0": {
          "cluster_sizes": {
           "model_cluster_size": 27,
           "real_cluster_size": 30,
           "relevant_post_count": 23
          },
          "model_cluster_size / real_cluster_size": 0.9,
          "model_representation": "суд|курорт|названия|красная поляна|красная|поляна|роза хутор|курорта|роза|хутор",
          "model_topic_id": 4,
          "precision (might be underestimated)": 0.85,
          "recall": 0.77,
          "topic_representation": "Суд Роза Хутор vs Красная Поляна"
         },
         "1": {
          "cluster_sizes": {
           "model_cluster_size": 225,
           "real_cluster_size": 120,
           "relevant_post_count": 43
          },
          "model_cluster_size / real_cluster_size": 1.88,
          "model_representation": "сочи|хутор|роза|роза хутор|поляна|красная|красная поляна|горы|красной|отель",
          "model_topic_id": 0,
          "precision (might be underestimated)": 0.19,
          "recall": 0.36,
          "topic_representation": "Пешеходная зона в Красной Поляне"
         },
         "2": {
          "cluster_sizes": {
           "model_cluster_size": 50,
           "real_cluster_size": 25,
           "relevant_post_count": 18
          },
          "model_cluster_size / real_cluster_size": 2,
          "model_representation": "россии|2023|сочи|спорту|2026|начало|соревнования|красная|поляна|красная поляна",
          "model_topic_id": 2,
          "precision (might be underestimated)": 0.36,
          "recall": 0.72,
          "topic_representation": "Конференции"
         }
        },
        "v_measure": 0.31486271372798713
       }
      },
      "text/plain": [
       "<IPython.core.display.JSON object>"
      ]
     },
     "execution_count": 5,
     "metadata": {
      "application/json": {
       "expanded": false,
       "root": "root"
      }
     },
     "output_type": "execute_result"
    }
   ],
   "source": []
  },
  {
   "cell_type": "code",
   "execution_count": null,
   "id": "a333772f-e224-448c-ac27-e07be2b7592d",
   "metadata": {},
   "outputs": [],
   "source": []
  },
  {
   "cell_type": "markdown",
   "id": "f4c5b529-e7e4-4b50-b27f-a8ab2e75ffe1",
   "metadata": {},
   "source": [
    "# "
   ]
  }
 ],
 "metadata": {
  "kernelspec": {
   "display_name": "Python 3 (ipykernel)",
   "language": "python",
   "name": "python3"
  },
  "language_info": {
   "codemirror_mode": {
    "name": "ipython",
    "version": 3
   },
   "file_extension": ".py",
   "mimetype": "text/x-python",
   "name": "python",
   "nbconvert_exporter": "python",
   "pygments_lexer": "ipython3",
   "version": "3.11.3"
  }
 },
 "nbformat": 4,
 "nbformat_minor": 5
}
